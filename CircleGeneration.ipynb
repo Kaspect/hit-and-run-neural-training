{
 "cells": [
  {
   "cell_type": "code",
   "execution_count": 39,
   "metadata": {
    "collapsed": false
   },
   "outputs": [
    {
     "name": "stdout",
     "output_type": "stream",
     "text": [
      "Using matplotlib backend: MacOSX\n",
      "Populating the interactive namespace from numpy and matplotlib\n",
      "The autoreload extension is already loaded. To reload it, use:\n",
      "  %reload_ext autoreload\n"
     ]
    }
   ],
   "source": [
    "import matplotlib.pyplot as plt\n",
    "import scipy as sp\n",
    "import numpy as np\n",
    "import pandas as pd\n",
    "\n",
    "%pylab\n",
    "%load_ext autoreload\n",
    "%autoreload\n",
    "%matplotlib inline"
   ]
  },
  {
   "cell_type": "code",
   "execution_count": 101,
   "metadata": {
    "collapsed": false
   },
   "outputs": [
    {
     "data": {
      "image/png": "[encoded data removed]",
      "text/plain": [
       "<matplotlib.figure.Figure at 0x1200c6090>"
      ]
     },
     "metadata": {},
     "output_type": "display_data"
    }
   ],
   "source": [
    "n = 20 # number of vectors to split up on circle\n",
    "radius = 5 # radius of circle to generate\n",
    "\n",
    "\n",
    "x_0 = radius\n",
    "y_0 = 0\n",
    "points = []\n",
    "vectors = []\n",
    "for i in xrange(1,n+1):\n",
    "    angle = i*(2*sp.pi/n)\n",
    "    x = radius*sp.cos(angle)\n",
    "    y = radius*sp.sin(angle)\n",
    "\n",
    "    vectors.append([x_0,y_0,x-x_0, y-y_0])\n",
    "    \n",
    "    x_0 = x\n",
    "    y_0 = y\n",
    "    \n",
    "    \n",
    "x, y, u, v = zip(*vectors)\n",
    "plt.figure()\n",
    "ax = plt.gca()\n",
    "ax.quiver(x,y,u,v,angles='xy',scale_units='xy',scale=1)\n",
    "ax.set_xlim([-10,10])\n",
    "ax.set_ylim([-10,10])\n",
    "plt.draw()\n",
    "plt.show()"
   ]
  },
  {
   "cell_type": "code",
   "execution_count": 73,
   "metadata": {
    "collapsed": false
   },
   "outputs": [
    {
     "name": "stdout",
     "output_type": "stream",
     "text": [
      "5.0\n"
     ]
    }
   ],
   "source": [
    "# each vector has the following magnitude:\n",
    "magnitude = np.linalg.norm(points[0])\n",
    "print magnitude\n",
    "\n",
    "# create a matrix C of points rows of (x,y) coordinates\n",
    "circle_vector = np.mat(points)"
   ]
  },
  {
   "cell_type": "code",
   "execution_count": null,
   "metadata": {
    "collapsed": true
   },
   "outputs": [],
   "source": []
  }
 ],
 "metadata": {
  "kernelspec": {
   "display_name": "Python 2",
   "language": "python",
   "name": "python2"
  },
  "language_info": {
   "codemirror_mode": {
    "name": "ipython",
    "version": 2
   },
   "file_extension": ".py",
   "mimetype": "text/x-python",
   "name": "python",
   "nbconvert_exporter": "python",
   "pygments_lexer": "ipython2",
   "version": "2.7.11"
  }
 },
 "nbformat": 4,
 "nbformat_minor": 0
}
